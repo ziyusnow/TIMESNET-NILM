{
 "cells": [
  {
   "cell_type": "markdown",
   "id": "3d8ed418-e0cd-4431-ab46-b3c12cbaf9ef",
   "metadata": {
    "tags": []
   },
   "source": [
    "# 欢迎进入 VirtAI Notebook\n",
    "您可以在这里编辑代码和文档，在编辑代码前您需阅读本文了解文件目录的作用及权限，以免使用不当造成数据丢失。"
   ]
  },
  {
   "cell_type": "markdown",
   "id": "86eef411",
   "metadata": {
    "tags": []
   },
   "source": [
    "## 关于文件目录\n",
    "\n"
   ]
  },
  {
   "cell_type": "markdown",
   "id": "e183ce7a-5bf7-4ba1-a694-047274daa372",
   "metadata": {
    "tags": []
   },
   "source": [
    "| 存储 | 路径 | 环境变量($+变量) | 权限 | 大小 | 备注 |\n",
    "|-------|-------|-------|-------|-------|-------|\n",
    "| 容器储存 | 代码、数据集、模型、结果集<br>路径以外的所有路径 | - |【开发环境】和【离线训练】<br>均可读写 | small：20G<br>midium:30G<br>large：50G<br>Xlarge:100G | 1.[临时保存]把容器保存成新<br>镜像 (包含容器存储的数据)<br>2.容器关闭或重启，会销毁<br>容器，容器存储的数据不会保留。 |\n",
    "| 代码 | /gemini/code | GEMINI_CODE | 【开发环境】中可读写<br>【离线训练】中只读 | 不限制大小 | 1.在项目内挂载，归属于所在的项目<br>2.启动容器后，如果开启了SSH或<br>注入了JupyterLab，可以通过SSH工具<br>或JupyterLab上传下载 |\n",
    "| 数据集 | /gemini/data-1<br>/gemini/data-2<br>/gemini/data-3 | GEMINI_DATA_IN1<br>GEMINI_DATA_IN2<br>GEMINI_DATA_IN3 | 只读 Read Only | 不限制大小 | 在【数据】栏内上传数据，保存在数据<br>目录下，创建项目时选择会挂载到容器内。 |\n",
    "| 模型 | /gemini/pretrain<br>/gemini/pretrain2<br>/gemini/pretrain3 | GEMINI_PRETRAIN<br>GEMINI_PRETRAIN2<br>GEMINI_PRETRAIN3 | 只读 Read Only | 不限制大小 | - |\n",
    "| 结果集 | /gemini/output | GEMINI_DATA_OUT | 仅【离线训练】有此功能<br>可读写 | 不限制大小 | 挂载在项目内，归属于所在的项目 |"
   ]
  },
  {
   "cell_type": "code",
   "execution_count": null,
   "id": "2a051967-f6d4-4020-a863-8e16c0352d02",
   "metadata": {},
   "outputs": [],
   "source": [
    "# 试试这个经典示例\n",
    "print (\"Hello VirtAI\")"
   ]
  },
  {
   "cell_type": "code",
   "execution_count": null,
   "id": "f554cb0c-d085-42ee-a58b-2cfaf803b873",
   "metadata": {},
   "outputs": [],
   "source": [
    "# 查看项目代码\n",
    "!ls /gemini/code\n",
    "!ls $GEMINI_CODE"
   ]
  },
  {
   "cell_type": "code",
   "execution_count": null,
   "id": "b8167ea6-d95c-499e-82a4-8d22762474ed",
   "metadata": {},
   "outputs": [],
   "source": [
    "# 查看挂载的数据集\n",
    "!ls /gemini/data-1\n",
    "!ls $GEMINI_DATA_IN1"
   ]
  },
  {
   "cell_type": "code",
   "execution_count": null,
   "id": "07832033-acd0-477f-8d9e-a0271a447d12",
   "metadata": {},
   "outputs": [],
   "source": [
    "# 查看挂载的预训练数据/模型\n",
    "!ls /gemini/pretrain\n",
    "!ls $GEMINI_PRETRAIN"
   ]
  }
 ],
 "metadata": {
  "kernelspec": {
   "display_name": "Python 3 (ipykernel)",
   "language": "python",
   "name": "python3"
  },
  "language_info": {
   "codemirror_mode": {
    "name": "ipython",
    "version": 3
   },
   "file_extension": ".py",
   "mimetype": "text/x-python",
   "name": "python",
   "nbconvert_exporter": "python",
   "pygments_lexer": "ipython3",
   "version": "3.10.13"
  },
  "vscode": {
   "interpreter": {
    "hash": "31f2aee4e71d21fbe5cf8b01ff0e069b9275f58929596ceb00d14d90e3e16cd6"
   }
  }
 },
 "nbformat": 4,
 "nbformat_minor": 5
}
